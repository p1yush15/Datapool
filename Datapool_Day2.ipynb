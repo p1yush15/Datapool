{
 "cells": [
  {
   "cell_type": "markdown",
   "metadata": {},
   "source": [
    "# Section-1: Introduction to python\n",
    "## Datapool Day-02"
   ]
  },
  {
   "cell_type": "code",
   "execution_count": 1,
   "metadata": {},
   "outputs": [
    {
     "name": "stdout",
     "output_type": "stream",
     "text": [
      "5 3.14 Data Analytics\n"
     ]
    }
   ],
   "source": [
    "x=5 \n",
    "y=3.14\n",
    "name=\"Data Analytics\"\n",
    "print(x,y,name)"
   ]
  },
  {
   "cell_type": "code",
   "execution_count": 2,
   "metadata": {},
   "outputs": [
    {
     "name": "stdout",
     "output_type": "stream",
     "text": [
      "['Apple', 'Banana', 'Cherry']\n"
     ]
    }
   ],
   "source": [
    "fruits=[\"Apple\",\"Banana\",\"Cherry\"]\n",
    "print(fruits)"
   ]
  },
  {
   "cell_type": "code",
   "execution_count": 5,
   "metadata": {},
   "outputs": [
    {
     "name": "stdout",
     "output_type": "stream",
     "text": [
      "You are adult\n"
     ]
    }
   ],
   "source": [
    "a=int(int(\"Ënter age:\"))\n",
    "if a>=18:\n",
    "    print(\"You are adult\")\n",
    "else :\n",
    "    print(\"You are minor\")"
   ]
  },
  {
   "cell_type": "code",
   "execution_count": 12,
   "metadata": {},
   "outputs": [
    {
     "name": "stdout",
     "output_type": "stream",
     "text": [
      "Squares of number 0-9:[0, 1, 4, 9, 16, 25, 36, 49, 64, 81]\n"
     ]
    }
   ],
   "source": [
    "squares= [x**2 for x in range(10)]\n",
    "print(f\"Squares of number 0-9:{squares}\")"
   ]
  },
  {
   "cell_type": "code",
   "execution_count": 10,
   "metadata": {},
   "outputs": [],
   "source": [
    "import pandas as pd\n",
    "import numpy as np"
   ]
  },
  {
   "cell_type": "code",
   "execution_count": 13,
   "metadata": {},
   "outputs": [],
   "source": [
    "import pandas as pd\n",
    "import numpy as np"
   ]
  },
  {
   "cell_type": "code",
   "execution_count": 18,
   "metadata": {},
   "outputs": [
    {
     "name": "stdout",
     "output_type": "stream",
     "text": [
      "DataFrame loaded from CSV file:\n",
      "   Store        Date  Weekly_Sales  Holiday_Flag  Temperature  Fuel_Price  \\\n",
      "0      1  05-02-2010    1643690.90             0        42.31       2.572   \n",
      "1      1  12-02-2010    1641957.44             1        38.51       2.548   \n",
      "2      1  19-02-2010    1611968.17             0        39.93       2.514   \n",
      "3      1  26-02-2010    1409727.59             0        46.63       2.561   \n",
      "4      1  05-03-2010    1554806.68             0        46.50       2.625   \n",
      "\n",
      "          CPI  Unemployment  \n",
      "0  211.096358         8.106  \n",
      "1  211.242170         8.106  \n",
      "2  211.289143         8.106  \n",
      "3  211.319643         8.106  \n",
      "4  211.350143         8.106  \n"
     ]
    }
   ],
   "source": [
    "df = pd.read_csv(\"Walmart.csv\")\n",
    "print(\"DataFrame loaded from CSV file:\")\n",
    "print(df.head())"
   ]
  },
  {
   "cell_type": "code",
   "execution_count": 19,
   "metadata": {},
   "outputs": [
    {
     "name": "stdout",
     "output_type": "stream",
     "text": [
      "\n",
      "Summary of the DataFrame:\n",
      "<class 'pandas.core.frame.DataFrame'>\n",
      "RangeIndex: 6435 entries, 0 to 6434\n",
      "Data columns (total 8 columns):\n",
      " #   Column        Non-Null Count  Dtype  \n",
      "---  ------        --------------  -----  \n",
      " 0   Store         6435 non-null   int64  \n",
      " 1   Date          6435 non-null   object \n",
      " 2   Weekly_Sales  6435 non-null   float64\n",
      " 3   Holiday_Flag  6435 non-null   int64  \n",
      " 4   Temperature   6435 non-null   float64\n",
      " 5   Fuel_Price    6435 non-null   float64\n",
      " 6   CPI           6435 non-null   float64\n",
      " 7   Unemployment  6435 non-null   float64\n",
      "dtypes: float64(5), int64(2), object(1)\n",
      "memory usage: 402.3+ KB\n",
      "None\n"
     ]
    }
   ],
   "source": [
    "print(\"\\nSummary of the DataFrame:\")\n",
    "print(df.info())"
   ]
  },
  {
   "cell_type": "code",
   "execution_count": 20,
   "metadata": {},
   "outputs": [
    {
     "name": "stdout",
     "output_type": "stream",
     "text": [
      "\n",
      "Selecting rows where index is 0 to 4 using .loc\n",
      "      Store        Date  Weekly_Sales  Holiday_Flag  Temperature  Fuel_Price  \\\n",
      "3452     25  25-06-2010     737569.14             0        72.17       2.808   \n",
      "3453     25  02-07-2010     759407.87             0        66.42       2.815   \n",
      "3454     25  09-07-2010     719591.13             0        75.24       2.793   \n",
      "3455     25  16-07-2010     726997.84             0        73.43       2.783   \n",
      "3456     25  23-07-2010     665290.93             0        75.37       2.771   \n",
      "...     ...         ...           ...           ...          ...         ...   \n",
      "4008     29  05-03-2010     535087.91             0        36.82       2.766   \n",
      "4009     29  12-03-2010     519042.49             0        43.43       2.805   \n",
      "4010     29  19-03-2010     496851.60             0        46.03       2.834   \n",
      "4011     29  26-03-2010     552985.34             0        48.56       2.831   \n",
      "4012     29  02-04-2010     599629.25             0        44.96       2.826   \n",
      "\n",
      "             CPI  Unemployment  \n",
      "3452  204.567546         7.856  \n",
      "3453  204.465056         7.527  \n",
      "3454  204.362566         7.527  \n",
      "3455  204.357166         7.527  \n",
      "3456  204.481219         7.527  \n",
      "...          ...           ...  \n",
      "4008  131.735000        10.064  \n",
      "4009  131.784000        10.064  \n",
      "4010  131.824290        10.064  \n",
      "4011  131.863129        10.064  \n",
      "4012  131.901968        10.160  \n",
      "\n",
      "[561 rows x 8 columns]\n"
     ]
    }
   ],
   "source": [
    "print(\"\\nSelecting rows where index is 0 to 4 using .loc\")\n",
    "print(df.loc[3452:4012])"
   ]
  },
  {
   "cell_type": "code",
   "execution_count": 25,
   "metadata": {},
   "outputs": [
    {
     "name": "stdout",
     "output_type": "stream",
     "text": [
      "\n",
      "Selecting rows by position(first two rows) using i.loc\n",
      "      Store        Date  Weekly_Sales  Holiday_Flag  Temperature  Fuel_Price  \\\n",
      "0         1  05-02-2010    1643690.90             0        42.31       2.572   \n",
      "2         1  19-02-2010    1611968.17             0        39.93       2.514   \n",
      "4         1  05-03-2010    1554806.68             0        46.50       2.625   \n",
      "6         1  19-03-2010    1472515.79             0        54.58       2.720   \n",
      "8         1  02-04-2010    1594968.28             0        62.27       2.719   \n",
      "...     ...         ...           ...           ...          ...         ...   \n",
      "6426     45  31-08-2012     734297.87             0        75.09       3.867   \n",
      "6428     45  14-09-2012     702238.27             0        67.87       3.948   \n",
      "6430     45  28-09-2012     713173.95             0        64.88       3.997   \n",
      "6432     45  12-10-2012     734464.36             0        54.47       4.000   \n",
      "6434     45  26-10-2012     760281.43             0        58.85       3.882   \n",
      "\n",
      "             CPI  Unemployment  \n",
      "0     211.096358         8.106  \n",
      "2     211.289143         8.106  \n",
      "4     211.350143         8.106  \n",
      "6     211.215635         8.106  \n",
      "8     210.820450         7.808  \n",
      "...          ...           ...  \n",
      "6426  191.461281         8.684  \n",
      "6428  191.699850         8.684  \n",
      "6430  192.013558         8.684  \n",
      "6432  192.327265         8.667  \n",
      "6434  192.308899         8.667  \n",
      "\n",
      "[3218 rows x 8 columns]\n"
     ]
    }
   ],
   "source": [
    "print(\"\\nSelecting rows by position(first two rows) using i.loc\")\n",
    "print(df.iloc[0::2])"
   ]
  },
  {
   "cell_type": "code",
   "execution_count": 26,
   "metadata": {},
   "outputs": [
    {
     "name": "stdout",
     "output_type": "stream",
     "text": [
      "\n",
      "Filtering rows where Weekly_Sales>100000:\n",
      "      Store        Date  Weekly_Sales  Holiday_Flag  Temperature  Fuel_Price  \\\n",
      "0         1  05-02-2010    1643690.90             0        42.31       2.572   \n",
      "1         1  12-02-2010    1641957.44             1        38.51       2.548   \n",
      "2         1  19-02-2010    1611968.17             0        39.93       2.514   \n",
      "3         1  26-02-2010    1409727.59             0        46.63       2.561   \n",
      "4         1  05-03-2010    1554806.68             0        46.50       2.625   \n",
      "...     ...         ...           ...           ...          ...         ...   \n",
      "6430     45  28-09-2012     713173.95             0        64.88       3.997   \n",
      "6431     45  05-10-2012     733455.07             0        64.89       3.985   \n",
      "6432     45  12-10-2012     734464.36             0        54.47       4.000   \n",
      "6433     45  19-10-2012     718125.53             0        56.47       3.969   \n",
      "6434     45  26-10-2012     760281.43             0        58.85       3.882   \n",
      "\n",
      "             CPI  Unemployment  \n",
      "0     211.096358         8.106  \n",
      "1     211.242170         8.106  \n",
      "2     211.289143         8.106  \n",
      "3     211.319643         8.106  \n",
      "4     211.350143         8.106  \n",
      "...          ...           ...  \n",
      "6430  192.013558         8.684  \n",
      "6431  192.170412         8.667  \n",
      "6432  192.327265         8.667  \n",
      "6433  192.330854         8.667  \n",
      "6434  192.308899         8.667  \n",
      "\n",
      "[6435 rows x 8 columns]\n"
     ]
    }
   ],
   "source": [
    "print(\"\\nFiltering rows where Weekly_Sales>100000:\")\n",
    "print(df[df['Weekly_Sales']>100000])"
   ]
  },
  {
   "cell_type": "code",
   "execution_count": 12,
   "metadata": {},
   "outputs": [],
   "source": [
    "import plotly.graph_objects as go"
   ]
  },
  {
   "cell_type": "code",
   "execution_count": null,
   "metadata": {},
   "outputs": [],
   "source": []
  }
 ],
 "metadata": {
  "kernelspec": {
   "display_name": "Python 3",
   "language": "python",
   "name": "python3"
  },
  "language_info": {
   "codemirror_mode": {
    "name": "ipython",
    "version": 3
   },
   "file_extension": ".py",
   "mimetype": "text/x-python",
   "name": "python",
   "nbconvert_exporter": "python",
   "pygments_lexer": "ipython3",
   "version": "3.11.9"
  }
 },
 "nbformat": 4,
 "nbformat_minor": 2
}
